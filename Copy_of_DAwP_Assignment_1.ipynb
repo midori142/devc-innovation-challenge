{
  "nbformat": 4,
  "nbformat_minor": 0,
  "metadata": {
    "colab": {
      "name": "Copy of DAwP_Assignment_1.ipynb",
      "provenance": []
    },
    "kernelspec": {
      "name": "python3",
      "display_name": "Python 3"
    }
  },
  "cells": [
    {
      "cell_type": "markdown",
      "metadata": {
        "id": "jjZG7BNlbWtO",
        "colab_type": "text"
      },
      "source": [
        "![](https://i.imgur.com/0AUxkXt.png)"
      ]
    },
    {
      "cell_type": "markdown",
      "metadata": {
        "id": "jbpQzyjqbflM",
        "colab_type": "text"
      },
      "source": [
        "# Assignment 1 - The Hacker Rank\n",
        "\n",
        "HackerRank is a place where programmers from all over the world come together to solve problems in a wide range of Computer Science domains.\n",
        "\n",
        "As you solve more challenges, you earn points and move up the HackerRank Leaderboard.\n",
        "\n",
        "Looking for a job at an awesome company? You can get hired by solving [challenges](https://www.hackerrank.com/jobs/search)!\n",
        "\n",
        "It's cool. Let's establish your knowledge and fight for glory!\n",
        "\n",
        "But before that let's make it clear that.."
      ]
    },
    {
      "cell_type": "markdown",
      "metadata": {
        "id": "-ndmD4naciAN",
        "colab_type": "text"
      },
      "source": [
        "## Note-taking is IMPORTANT\n",
        "\n",
        "Blog: [Why is note-taking important](https://nickblackbourn.com/blog/why-is-note-taking-important/)\n",
        "\n",
        "Note taking isn’t just important for college students, it’s a valuable life skill.\n",
        "\n",
        "Effective note taking helps you to remember information and aids your understanding of that information. \n",
        "\n",
        "**Notes boost your understanding**\n",
        "\n",
        "By making notes, you force yourself to construct a conceptual mental representation of the ideas you are grappling with. It is this process that helps you comprehend the subject matter you are working with.\n",
        "\n",
        "**Notes are a repository of your thinking**\n",
        "\n",
        "When you need to recall something that you came across a while ago, you can go over the main ideas by looking over your notes. This is why good, comprehensive notes are so useful; they are a catalogue of the best ideas you’ve encountered, and what you thought about them.\n",
        "\n",
        "etc.\n",
        "\n",
        "\n",
        "\n",
        "\n",
        "\n",
        "\n",
        "\n"
      ]
    },
    {
      "cell_type": "markdown",
      "metadata": {
        "id": "IGvKPsdVfX-F",
        "colab_type": "text"
      },
      "source": [
        "## Requirements\n",
        "\n",
        "Pick 10 challenges on HackerRank about SQL and 5 about Python in **easy** level:\n",
        "\n",
        "[HackerRank - Domain SQL](https://www.hackerrank.com/domains/sql?filters%5Bdifficulty%5D%5B%5D=easy&filters%5Bsubdomains%5D%5B%5D=select)\n",
        "\n",
        "[HackerRank - Domain Python](https://www.hackerrank.com/domains/python?filters%5Bdifficulty%5D%5B%5D=easy)\n",
        "\n",
        "For each challenge:\n",
        "\n",
        "* Create a markdown cell first that describes the challenge.\n",
        "* Solve the challenge on HackerRank and copy your solution to a code cell below\n",
        "* (Optional) A short description about how you came up with the solution would be awesome."
      ]
    },
    {
      "cell_type": "markdown",
      "metadata": {
        "id": "higGK1Y5iAea",
        "colab_type": "text"
      },
      "source": [
        "## Example"
      ]
    },
    {
      "cell_type": "markdown",
      "metadata": {
        "id": "D2yU2FYDi4tj",
        "colab_type": "text"
      },
      "source": [
        "### SQL"
      ]
    },
    {
      "cell_type": "markdown",
      "metadata": {
        "id": "gu4DDH7Ki77C",
        "colab_type": "text"
      },
      "source": [
        "\n",
        "#### Problem 1\n",
        "\n",
        "Query all columns for all American cities in **CITY** with populations larger than 100000. The CountryCode for America is USA.\n",
        "\n",
        "**Input Format**\n",
        "\n",
        "The **CITY** table is described as follows:\n",
        "\n",
        "| Field | Type |\n",
        "|:----:|:---:|\n",
        "| ID | NUMBER |\n",
        "| NAME | VARCHAR2(17) |\n",
        "| COUNTRYCODE | VARCHAR2(3) |\n",
        "| DISTRICT | VARCHAR2(20) |\n",
        "| POPULATION | NUMBER |"
      ]
    },
    {
      "cell_type": "code",
      "metadata": {
        "id": "hhAwMjyhbT1b",
        "colab_type": "code",
        "colab": {}
      },
      "source": [
        "# Solution\n",
        "# SELECT * from city WHERE population>100000 AND countrycode='USA';"
      ],
      "execution_count": 0,
      "outputs": []
    },
    {
      "cell_type": "markdown",
      "metadata": {
        "id": "0AxyfiJijJ7T",
        "colab_type": "text"
      },
      "source": [
        "### Python"
      ]
    },
    {
      "cell_type": "markdown",
      "metadata": {
        "id": "PEW8LsB5jLqf",
        "colab_type": "text"
      },
      "source": [
        "#### Problem 1\n",
        "\n",
        "**Task** \n",
        "Given an integer, , perform the following conditional actions:\n",
        "\n",
        "* If `n` is odd, print *Weird*\n",
        "* If `n` is even and in the inclusive range of 2 to 5, print *Not Weird*\n",
        "* If `n` is even and in the inclusive range of 6 to 20, print *Weird*\n",
        "* If `n` is even and greater than 20, print *Not Weird*\n",
        "\n",
        "**Input Format**\n",
        "\n",
        "A single line containing a positive integer, .\n",
        "\n",
        "**Output Format**\n",
        "\n",
        "Print Weird if the number is weird; otherwise, print Not Weird."
      ]
    },
    {
      "cell_type": "code",
      "metadata": {
        "id": "JBOxgw0zjLC2",
        "colab_type": "code",
        "colab": {}
      },
      "source": [
        "n = int(input())\n",
        "\n",
        "if n % 2 == 1:\n",
        "    print('Weird')\n",
        "else:\n",
        "    if (n >= 2) and (n <= 5):\n",
        "        print('Not Weird')\n",
        "    elif (n >= 6) and (n <= 20):\n",
        "        print('Weird')\n",
        "    else:\n",
        "        print('Not Weird')"
      ],
      "execution_count": 0,
      "outputs": []
    },
    {
      "cell_type": "markdown",
      "metadata": {
        "id": "a-Q3VE7YkA9A",
        "colab_type": "text"
      },
      "source": [
        "## Your turn\n",
        "\n",
        "Good luck and have fun!"
      ]
    },
    {
      "cell_type": "markdown",
      "metadata": {
        "id": "S-VbK-VapLwC",
        "colab_type": "text"
      },
      "source": [
        "1.Here is a sample line of code that can be executed in Python:\n",
        "\n",
        "print(\"Hello, World!\")\n",
        "You can just as easily store a string as a variable and then print it to stdout:\n",
        "\n",
        "my_string = \"Hello, World!\"\n",
        "print(my_string)\n",
        "\n",
        "\n"
      ]
    },
    {
      "cell_type": "code",
      "metadata": {
        "id": "RdkdZgjaj0To",
        "colab_type": "code",
        "colab": {}
      },
      "source": [
        "print(\"Hello, World!\")\n"
      ],
      "execution_count": 0,
      "outputs": []
    },
    {
      "cell_type": "code",
      "metadata": {
        "id": "ECK9Y2bNp22_",
        "colab_type": "code",
        "colab": {}
      },
      "source": [
        ""
      ],
      "execution_count": 0,
      "outputs": []
    },
    {
      "cell_type": "markdown",
      "metadata": {
        "id": "JUIqa90GpUk6",
        "colab_type": "text"
      },
      "source": [
        "Task 2\n",
        "Given an integer, , perform the following conditional actions:\n",
        "\n",
        "If n is odd, print Weird\n",
        "If n is even and in the inclusive range of 2 to 5, print Not Weird\n",
        "If n is even and in the inclusive range of 6 to 20, print Weird\n",
        "If n is even and greater than 20, print Not Weird\n",
        "Input Format\n",
        "\n",
        "A single line containing a positive integer, .\n",
        "\n",
        "Output Format\n",
        "\n",
        "Print Weird if the number is weird; otherwise, print Not Weird."
      ]
    },
    {
      "cell_type": "code",
      "metadata": {
        "id": "2XtREaNxpfrZ",
        "colab_type": "code",
        "colab": {}
      },
      "source": [
        "import math\n",
        "import os\n",
        "import random\n",
        "import re\n",
        "import sys\n",
        "\n",
        "\n",
        "\n",
        "if __name__ == '__main__':\n",
        "    n = int(input().strip())\n",
        "    if (n % 2 != 0): print(\"Weird\") \n",
        "    if (n % 2 == 0):\n",
        "        if (2 <= n <= 5): print(\"Not Weird\")\n",
        "        if (6 <= n <= 20): print(\"Weird\")\n",
        "        if (n > 20): print(\"Not Weird\")"
      ],
      "execution_count": 0,
      "outputs": []
    },
    {
      "cell_type": "markdown",
      "metadata": {
        "id": "2jsn_OoIp5zX",
        "colab_type": "text"
      },
      "source": [
        "Task 3\n",
        "Read two integers from STDIN and print three lines where:\n",
        "\n",
        "The first line contains the sum of the two numbers.\n",
        "The second line contains the difference of the two numbers (first - second).\n",
        "The third line contains the product of the two numbers.\n",
        "Input Format\n",
        "\n",
        "The first line contains the first integer, . The second line contains the second integer, .\n",
        "\n",
        "Constraints\n",
        "\n",
        "\n",
        "\n",
        "Output Format\n",
        "\n",
        "Print the three lines as explained above."
      ]
    },
    {
      "cell_type": "code",
      "metadata": {
        "id": "Vm3JF44pqGKN",
        "colab_type": "code",
        "colab": {}
      },
      "source": [
        "if __name__ == '__main__':\n",
        "    a = int(input())\n",
        "    b = int(input())\n",
        "\n",
        "    print(a+b)\n",
        "    if (a > b): \n",
        "        print(a - b)\n",
        "    else: \n",
        "        print(b - a)\n",
        "\n",
        "    print(a*b)"
      ],
      "execution_count": 0,
      "outputs": []
    },
    {
      "cell_type": "markdown",
      "metadata": {
        "id": "IvG33iV7qNb3",
        "colab_type": "text"
      },
      "source": [
        "Task\n",
        "Read two integers and print two lines. The first line should contain integer division,  // . The second line should contain float division,  / .\n",
        "\n",
        "You don't need to perform any rounding or formatting operations."
      ]
    },
    {
      "cell_type": "code",
      "metadata": {
        "id": "URRpyntSrA0p",
        "colab_type": "code",
        "colab": {}
      },
      "source": [
        "if __name__ == '__main__':\n",
        "    a = int(input())\n",
        "    b = int(input())\n",
        "    print(a//b)\n",
        "    print(a/b)"
      ],
      "execution_count": 0,
      "outputs": []
    },
    {
      "cell_type": "markdown",
      "metadata": {
        "id": "mzVkzGR6rGgy",
        "colab_type": "text"
      },
      "source": [
        "Task\n",
        "Read an integer . For all non-negative integers , print . See the sample for details.\n",
        "\n",
        "Input Format\n",
        "\n",
        "The first and only line contains the integer, .\n",
        "\n",
        "Constraints\n",
        "\n",
        "\n",
        "Output Format\n",
        "\n",
        "Print N lines, one corresponding to each i."
      ]
    },
    {
      "cell_type": "code",
      "metadata": {
        "id": "CWUDmrZBrUK6",
        "colab_type": "code",
        "colab": {}
      },
      "source": [
        "if __name__ == '__main__':\n",
        "    n = int(input())\n",
        "\n",
        "for i in range(n): \n",
        "    print(i*i)\n",
        "    i+=1"
      ],
      "execution_count": 0,
      "outputs": []
    },
    {
      "cell_type": "markdown",
      "metadata": {
        "id": "hxV3lxkzrw4k",
        "colab_type": "text"
      },
      "source": [
        "Query all columns for all American cities in CITY with populations larger than 100000. The CountryCode for America is USA."
      ]
    },
    {
      "cell_type": "code",
      "metadata": {
        "id": "xf9Clb3PrxgL",
        "colab_type": "code",
        "colab": {}
      },
      "source": [
        "SELECT * FROM CITY \n",
        "WHERE COUNTRYCODE = 'USA' AND POPULATION > 100000;"
      ],
      "execution_count": 0,
      "outputs": []
    },
    {
      "cell_type": "markdown",
      "metadata": {
        "id": "WvMS7GNfrxvi",
        "colab_type": "text"
      },
      "source": [
        "Query the names of all American cities in CITY with populations larger than 120000. The CountryCode for America is USA.\n",
        "\n"
      ]
    },
    {
      "cell_type": "code",
      "metadata": {
        "id": "afC68pPhr02j",
        "colab_type": "code",
        "colab": {}
      },
      "source": [
        "SELECT NAME FROM CITY\n",
        "WHERE COUNTRYCODE = 'USA' AND POPULATION > 120000;"
      ],
      "execution_count": 0,
      "outputs": []
    },
    {
      "cell_type": "markdown",
      "metadata": {
        "id": "f5R6z8oMr77N",
        "colab_type": "text"
      },
      "source": [
        "Query all columns (attributes) for every row in the CITY table.\n",
        "\n"
      ]
    },
    {
      "cell_type": "code",
      "metadata": {
        "id": "Gu7v4IWbr7zd",
        "colab_type": "code",
        "colab": {}
      },
      "source": [
        "SELECT * FROM CITY;"
      ],
      "execution_count": 0,
      "outputs": []
    },
    {
      "cell_type": "markdown",
      "metadata": {
        "id": "C7kcUjFRsKVR",
        "colab_type": "text"
      },
      "source": [
        "Query all columns for a city in CITY with the ID 1661.\n",
        "\n"
      ]
    },
    {
      "cell_type": "code",
      "metadata": {
        "id": "oTM7958dsKcm",
        "colab_type": "code",
        "colab": {}
      },
      "source": [
        "SELECT * FROM CITY \n",
        "WHERE ID = 1661;"
      ],
      "execution_count": 0,
      "outputs": []
    },
    {
      "cell_type": "markdown",
      "metadata": {
        "id": "gKoogAMhsQu-",
        "colab_type": "text"
      },
      "source": [
        "Query all attributes of every Japanese city in the CITY table. The COUNTRYCODE for Japan is JPN.\n",
        "\n"
      ]
    },
    {
      "cell_type": "code",
      "metadata": {
        "id": "cMHGaFgCsQ2y",
        "colab_type": "code",
        "colab": {}
      },
      "source": [
        "SELECT * FROM CITY \n",
        "WHERE COUNTRYCODE = 'JPN';"
      ],
      "execution_count": 0,
      "outputs": []
    },
    {
      "cell_type": "markdown",
      "metadata": {
        "id": "ttdIUi6IsWvo",
        "colab_type": "text"
      },
      "source": [
        "Query the names of all the Japanese cities in the CITY table. The COUNTRYCODE for Japan is JPN.\n"
      ]
    },
    {
      "cell_type": "code",
      "metadata": {
        "id": "cHPPrqlksW3z",
        "colab_type": "code",
        "colab": {}
      },
      "source": [
        "SELECT NAME FROM CITY \n",
        "WHERE COUNTRYCODE = 'JPN';\n"
      ],
      "execution_count": 0,
      "outputs": []
    },
    {
      "cell_type": "markdown",
      "metadata": {
        "id": "xF37Jy9fsfIG",
        "colab_type": "text"
      },
      "source": [
        "Query a list of CITY and STATE from the STATION table.\n"
      ]
    },
    {
      "cell_type": "code",
      "metadata": {
        "id": "E_KOzrxssfQC",
        "colab_type": "code",
        "colab": {}
      },
      "source": [
        "SELECT CITY, STATE FROM STATION;\n"
      ],
      "execution_count": 0,
      "outputs": []
    },
    {
      "cell_type": "markdown",
      "metadata": {
        "id": "caRQl-jftK6K",
        "colab_type": "text"
      },
      "source": [
        "Query a list of CITY names from STATION with even ID numbers only. You may print the results in any order, but must exclude duplicates from your answer."
      ]
    },
    {
      "cell_type": "code",
      "metadata": {
        "id": "M_dvKRNOtLCY",
        "colab_type": "code",
        "colab": {}
      },
      "source": [
        "SELECT DISTINCT CITY\n",
        "FROM STATION\n",
        "WHERE MOD(ID, 2) = 0\n",
        "ORDER BY CITY;"
      ],
      "execution_count": 0,
      "outputs": []
    },
    {
      "cell_type": "markdown",
      "metadata": {
        "id": "V7TBPucmtRuL",
        "colab_type": "text"
      },
      "source": [
        "Weather Observation Station 4\n",
        "Let N be the number of CITY entries in STATION, and let N' be the number of distinct CITY names in STATION; query the value of N - N' from STATION. In other words, find the difference between the total number of CITY entries in the table and the number of distinct CITY entries in the table."
      ]
    },
    {
      "cell_type": "code",
      "metadata": {
        "id": "vH1hWqIAtR2Z",
        "colab_type": "code",
        "colab": {}
      },
      "source": [
        "SELECT \n",
        "COUNT(CITY) - COUNT(DISTINCT CITY)\n",
        "FROM STATION;"
      ],
      "execution_count": 0,
      "outputs": []
    },
    {
      "cell_type": "markdown",
      "metadata": {
        "id": "yr32nNnxt5sZ",
        "colab_type": "text"
      },
      "source": [
        "Query the two cities in STATION with the shortest and longest CITY names, as well as their respective lengths (i.e.: number of characters in the name). If there is more than one smallest or largest city, choose the one that comes first when ordered alphabetically."
      ]
    },
    {
      "cell_type": "code",
      "metadata": {
        "id": "hTj7sIv3t51J",
        "colab_type": "code",
        "colab": {}
      },
      "source": [
        "SELECT CITY || ' ' || LENGTH \n",
        "FROM (\n",
        "SELECT CITY , LENGTH(CITY) AS LENGTH\n",
        "FROM STATION \n",
        "WHERE LENGTH(CITY) = (SELECT MAX(LENGTH(CITY)) FROM STATION) \n",
        "ORDER BY CITY ) \n",
        "WHERE ROWNUM <= 1\n",
        "UNION\n",
        "SELECT CITY || ' ' || LENGTH \n",
        "FROM (\n",
        "SELECT CITY , LENGTH(CITY) AS LENGTH\n",
        "FROM STATION \n",
        "WHERE LENGTH(CITY) = (SELECT MIN(LENGTH(CITY)) FROM STATION) \n",
        "ORDER BY CITY ) \n",
        "WHERE ROWNUM <= 1 ;"
      ],
      "execution_count": 0,
      "outputs": []
    }
  ]
}