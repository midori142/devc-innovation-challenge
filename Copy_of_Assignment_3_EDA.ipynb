{
  "nbformat": 4,
  "nbformat_minor": 0,
  "metadata": {
    "colab": {
      "name": "Copy of Assignment_3_EDA.ipynb",
      "provenance": [],
      "collapsed_sections": [],
      "include_colab_link": true
    },
    "language_info": {
      "codemirror_mode": {
        "name": "ipython",
        "version": 3
      },
      "file_extension": ".py",
      "mimetype": "text/x-python",
      "name": "python",
      "nbconvert_exporter": "python",
      "pygments_lexer": "ipython3",
      "version": "3.6.5"
    },
    "kernelspec": {
      "display_name": "Python 3",
      "language": "python",
      "name": "python3"
    }
  },
  "cells": [
    {
      "cell_type": "markdown",
      "metadata": {
        "id": "view-in-github",
        "colab_type": "text"
      },
      "source": [
        "<a href=\"https://colab.research.google.com/github/midori142/devc-innovation-challenge/blob/master/Copy_of_Assignment_3_EDA.ipynb\" target=\"_parent\"><img src=\"https://colab.research.google.com/assets/colab-badge.svg\" alt=\"Open In Colab\"/></a>"
      ]
    },
    {
      "cell_type": "markdown",
      "metadata": {
        "id": "x7fdTGs4SnyS",
        "colab_type": "text"
      },
      "source": [
        "![](https://i.imgur.com/0AUxkXt.png)"
      ]
    },
    {
      "cell_type": "markdown",
      "metadata": {
        "id": "_uqy69P0Pm0L",
        "colab_type": "text"
      },
      "source": [
        "# Assignment 3 - From data to insights\n",
        "\n",
        "Before you explore the data, write down a short list of what you expect to see in the data: the distribution of key variables, the relationships between important pairs of them, and so on. Such a list is essentially a prediction based on your current understanding of the business.\n",
        "\n",
        "Now analyze the data. Make plots, do summaries, whatever is needed to see if it matches your expectations.\n",
        "\n",
        "Is there anything that doesn’t match? Anything that makes you go “That’s odd” or “That doesn’t make any sense.”?\n",
        "\n",
        "Zoom in and try to understand what in your business is making that weird thing show up in the data like that. This is the critical step.\n",
        "\n",
        "You may have just found an insight into the business and increased your understanding\n",
        "\n",
        "\n",
        "## The data analysis checklist\n",
        "\n",
        "This checklist can be used as a guide during the process of a data analysis, or as a way to evaluate the quality of a reported data analysis.\n",
        "\n",
        "### Answering the first questions\n",
        "\n",
        "1. Did you define the metric for success before beginning?\n",
        "2. Did you understand the context for the question and business application?\n",
        "3. Did you consider whether the question could be answered with the available data?\n",
        "\n",
        "### Cleaning the data\n",
        "\n",
        "1. Did you identify the missing data?\n",
        "2. Is each variable one column?\n",
        "3. Do different data types appear in each table?\n",
        "4. Did you try to identify any errors or miscoding of variables?\n",
        "5. Did you check for outliers?\n",
        "\n",
        "### Exploratory analysis\n",
        "\n",
        "1. Did you make univariate plots (histogram, distplot, boxplot)?\n",
        "2. Did you consider correlations between variables (scatterplot, jointplot, kde plot, correlation matrix)?\n",
        "3. Did you check the units of all data points to make sure they are in the right range?\n",
        "\n",
        "### Presentations\n",
        "\n",
        "1. Did you lead with a brief, understandable to everyone of your problem?\n",
        "2. Did you explain the data, describe the question of interest?\n",
        "3. Did you make sure all legends and axes were legible from the back of the room?"
      ]
    },
    {
      "cell_type": "markdown",
      "metadata": {
        "id": "ZBc0glanPm0M",
        "colab_type": "text"
      },
      "source": [
        "## Dataset - Online Retailes Purchase\n",
        "\n",
        "Typically e-commerce datasets are proprietary and consequently hard to find among publicly available data. However, [The UCI Machine Learning Repository](http://archive.ics.uci.edu/ml/index.php) has made this dataset containing actual transactions from 2010 and 2011. The dataset is maintained on their site, where it can be found by the title \"Online Retail\".\n",
        "\n",
        "\n",
        "### Step 1 - Checking the data\n",
        "\n",
        "**Import tools set**"
      ]
    },
    {
      "cell_type": "code",
      "metadata": {
        "id": "9Cx3LXxfPm0N",
        "colab_type": "code",
        "colab": {}
      },
      "source": [
        "# Your code here\n",
        "import numpy as np \n",
        "import pandas as pd \n",
        "import seaborn as sns\n",
        "import matplotlib.pyplot as plt "
      ],
      "execution_count": 0,
      "outputs": []
    },
    {
      "cell_type": "markdown",
      "metadata": {
        "id": "mFTQu0j6Pm0Q",
        "colab_type": "text"
      },
      "source": [
        "**Import data**"
      ]
    },
    {
      "cell_type": "code",
      "metadata": {
        "id": "w0YVchrVPm0R",
        "colab_type": "code",
        "colab": {}
      },
      "source": [
        "link = \"https://ml101-khanhnguyen.s3-ap-southeast-1.amazonaws.com/devc/Online_Retail.csv\"\n",
        "# Note: set param encoding = 'latin1'\n",
        "# Your code here \n",
        "sales = pd.read_csv(link, encoding = 'latin1')"
      ],
      "execution_count": 0,
      "outputs": []
    },
    {
      "cell_type": "code",
      "metadata": {
        "id": "V3v8D3pTFrYh",
        "colab_type": "code",
        "outputId": "f7c01c09-18a8-4f0e-e31e-779c692c27bd",
        "colab": {
          "base_uri": "https://localhost:8080/",
          "height": 198
        }
      },
      "source": [
        "# Print out First 5 rows from dataframe\n",
        "# Your code here\n",
        "sales.head(5)"
      ],
      "execution_count": 317,
      "outputs": [
        {
          "output_type": "execute_result",
          "data": {
            "text/html": [
              "<div>\n",
              "<style scoped>\n",
              "    .dataframe tbody tr th:only-of-type {\n",
              "        vertical-align: middle;\n",
              "    }\n",
              "\n",
              "    .dataframe tbody tr th {\n",
              "        vertical-align: top;\n",
              "    }\n",
              "\n",
              "    .dataframe thead th {\n",
              "        text-align: right;\n",
              "    }\n",
              "</style>\n",
              "<table border=\"1\" class=\"dataframe\">\n",
              "  <thead>\n",
              "    <tr style=\"text-align: right;\">\n",
              "      <th></th>\n",
              "      <th>InvoiceNo</th>\n",
              "      <th>StockCode</th>\n",
              "      <th>Description</th>\n",
              "      <th>Quantity</th>\n",
              "      <th>InvoiceDate</th>\n",
              "      <th>UnitPrice</th>\n",
              "      <th>CustomerID</th>\n",
              "      <th>Country</th>\n",
              "    </tr>\n",
              "  </thead>\n",
              "  <tbody>\n",
              "    <tr>\n",
              "      <th>0</th>\n",
              "      <td>536365</td>\n",
              "      <td>85123A</td>\n",
              "      <td>WHITE HANGING HEART T-LIGHT HOLDER</td>\n",
              "      <td>6</td>\n",
              "      <td>12/1/10 8:26</td>\n",
              "      <td>2.55</td>\n",
              "      <td>17850.0</td>\n",
              "      <td>United Kingdom</td>\n",
              "    </tr>\n",
              "    <tr>\n",
              "      <th>1</th>\n",
              "      <td>536365</td>\n",
              "      <td>71053</td>\n",
              "      <td>WHITE METAL LANTERN</td>\n",
              "      <td>6</td>\n",
              "      <td>12/1/10 8:26</td>\n",
              "      <td>3.39</td>\n",
              "      <td>17850.0</td>\n",
              "      <td>United Kingdom</td>\n",
              "    </tr>\n",
              "    <tr>\n",
              "      <th>2</th>\n",
              "      <td>536365</td>\n",
              "      <td>84406B</td>\n",
              "      <td>CREAM CUPID HEARTS COAT HANGER</td>\n",
              "      <td>8</td>\n",
              "      <td>12/1/10 8:26</td>\n",
              "      <td>2.75</td>\n",
              "      <td>17850.0</td>\n",
              "      <td>United Kingdom</td>\n",
              "    </tr>\n",
              "    <tr>\n",
              "      <th>3</th>\n",
              "      <td>536365</td>\n",
              "      <td>84029G</td>\n",
              "      <td>KNITTED UNION FLAG HOT WATER BOTTLE</td>\n",
              "      <td>6</td>\n",
              "      <td>12/1/10 8:26</td>\n",
              "      <td>3.39</td>\n",
              "      <td>17850.0</td>\n",
              "      <td>United Kingdom</td>\n",
              "    </tr>\n",
              "    <tr>\n",
              "      <th>4</th>\n",
              "      <td>536365</td>\n",
              "      <td>84029E</td>\n",
              "      <td>RED WOOLLY HOTTIE WHITE HEART.</td>\n",
              "      <td>6</td>\n",
              "      <td>12/1/10 8:26</td>\n",
              "      <td>3.39</td>\n",
              "      <td>17850.0</td>\n",
              "      <td>United Kingdom</td>\n",
              "    </tr>\n",
              "  </tbody>\n",
              "</table>\n",
              "</div>"
            ],
            "text/plain": [
              "  InvoiceNo StockCode  ... CustomerID         Country\n",
              "0    536365    85123A  ...    17850.0  United Kingdom\n",
              "1    536365     71053  ...    17850.0  United Kingdom\n",
              "2    536365    84406B  ...    17850.0  United Kingdom\n",
              "3    536365    84029G  ...    17850.0  United Kingdom\n",
              "4    536365    84029E  ...    17850.0  United Kingdom\n",
              "\n",
              "[5 rows x 8 columns]"
            ]
          },
          "metadata": {
            "tags": []
          },
          "execution_count": 317
        }
      ]
    },
    {
      "cell_type": "code",
      "metadata": {
        "id": "u4Msf54uFy4w",
        "colab_type": "code",
        "outputId": "d0cd54c6-8ea9-448b-d7d2-f42ec622267c",
        "colab": {
          "base_uri": "https://localhost:8080/",
          "height": 254
        }
      },
      "source": [
        "# Print out brief info\n",
        "brief_info = sales.info()"
      ],
      "execution_count": 318,
      "outputs": [
        {
          "output_type": "stream",
          "text": [
            "<class 'pandas.core.frame.DataFrame'>\n",
            "RangeIndex: 541909 entries, 0 to 541908\n",
            "Data columns (total 8 columns):\n",
            "InvoiceNo      541909 non-null object\n",
            "StockCode      541909 non-null object\n",
            "Description    540455 non-null object\n",
            "Quantity       541909 non-null int64\n",
            "InvoiceDate    541909 non-null object\n",
            "UnitPrice      541909 non-null float64\n",
            "CustomerID     406829 non-null float64\n",
            "Country        541909 non-null object\n",
            "dtypes: float64(2), int64(1), object(5)\n",
            "memory usage: 33.1+ MB\n"
          ],
          "name": "stdout"
        }
      ]
    },
    {
      "cell_type": "markdown",
      "metadata": {
        "id": "wY6yv3UsPm0k",
        "colab_type": "text"
      },
      "source": [
        "### Step 2 - Cleaning the data\n",
        "\n",
        "Few of useful data cleaning functions:\n",
        "\n",
        "* `s.astype('category')` # This will convert the datatype of the series to float *Please note that \"s\" here is a Pandas Series\n",
        "\n",
        "* `s.replace(1,'one')` # This will replace all values equal to 1 with 'one'\n",
        "\n",
        "* `s.replace([1,3],['one','three'])` # This will replace all 1 with 'one' and 3 with 'three'\n",
        "\n",
        "* `data.rename(columns=lambda x: x + 1)` # Mass renaming of columns\n",
        "\n",
        "* `data.rename(columns={'oldname': 'new name'})` # Selective renaming\n",
        "\n",
        "* `data.set_index('column_one')` #  This will change the index\n",
        "\n",
        "* `data.rename(index=lambda x: x + 1)` # Mass renaming of index\n",
        "\n",
        "* `data.dropna()` # Remove missing values\n",
        "\n",
        "* `data.fillna(x)` #  This will replaces all null values with x\n",
        "\n",
        "* `s.fillna(s.mean())` # This will replace all null values with the mean (mean can be replaced with almost any function from the below section) :\n",
        "\n",
        "* `data.corr()` # This will return the correlation between columns in a DataFrame\n",
        "\n",
        "* `data.count()` # This will return the number of non-null values in each DataFrame column\n",
        "\n",
        "* `data.max()` # This will return the highest value in each column\n",
        "\n",
        "* `data.min()` # This will return the lowest value in each column\n",
        "\n",
        "* `data.median()` # This will return the median of each column\n",
        "\n",
        "* `data.std()` # This will returns the standard deviation of each column\n"
      ]
    },
    {
      "cell_type": "markdown",
      "metadata": {
        "id": "rcNsGWarPm06",
        "colab_type": "text"
      },
      "source": [
        "**Check for NaN values**"
      ]
    },
    {
      "cell_type": "code",
      "metadata": {
        "id": "TqLxHGy2Pm06",
        "colab_type": "code",
        "outputId": "2f93c737-b9f2-4e8b-ba72-618021d490b6",
        "colab": {
          "base_uri": "https://localhost:8080/",
          "height": 181
        }
      },
      "source": [
        "# Your code here\n",
        "sales.isnull().sum()"
      ],
      "execution_count": 319,
      "outputs": [
        {
          "output_type": "execute_result",
          "data": {
            "text/plain": [
              "InvoiceNo           0\n",
              "StockCode           0\n",
              "Description      1454\n",
              "Quantity            0\n",
              "InvoiceDate         0\n",
              "UnitPrice           0\n",
              "CustomerID     135080\n",
              "Country             0\n",
              "dtype: int64"
            ]
          },
          "metadata": {
            "tags": []
          },
          "execution_count": 319
        }
      ]
    },
    {
      "cell_type": "markdown",
      "metadata": {
        "id": "RdhPk_x1Pm0-",
        "colab_type": "text"
      },
      "source": [
        "**Examine few examples of NaN values**"
      ]
    },
    {
      "cell_type": "code",
      "metadata": {
        "id": "3kGYpbdOPm0-",
        "colab_type": "code",
        "outputId": "5c94e246-0eab-4f99-9736-1cbffcbce308",
        "colab": {
          "base_uri": "https://localhost:8080/",
          "height": 348
        }
      },
      "source": [
        "# List all NaN values\n",
        "sales[sales['Description'].isnull()].head(10)"
      ],
      "execution_count": 320,
      "outputs": [
        {
          "output_type": "execute_result",
          "data": {
            "text/html": [
              "<div>\n",
              "<style scoped>\n",
              "    .dataframe tbody tr th:only-of-type {\n",
              "        vertical-align: middle;\n",
              "    }\n",
              "\n",
              "    .dataframe tbody tr th {\n",
              "        vertical-align: top;\n",
              "    }\n",
              "\n",
              "    .dataframe thead th {\n",
              "        text-align: right;\n",
              "    }\n",
              "</style>\n",
              "<table border=\"1\" class=\"dataframe\">\n",
              "  <thead>\n",
              "    <tr style=\"text-align: right;\">\n",
              "      <th></th>\n",
              "      <th>InvoiceNo</th>\n",
              "      <th>StockCode</th>\n",
              "      <th>Description</th>\n",
              "      <th>Quantity</th>\n",
              "      <th>InvoiceDate</th>\n",
              "      <th>UnitPrice</th>\n",
              "      <th>CustomerID</th>\n",
              "      <th>Country</th>\n",
              "    </tr>\n",
              "  </thead>\n",
              "  <tbody>\n",
              "    <tr>\n",
              "      <th>622</th>\n",
              "      <td>536414</td>\n",
              "      <td>22139</td>\n",
              "      <td>NaN</td>\n",
              "      <td>56</td>\n",
              "      <td>12/1/10 11:52</td>\n",
              "      <td>0.0</td>\n",
              "      <td>NaN</td>\n",
              "      <td>United Kingdom</td>\n",
              "    </tr>\n",
              "    <tr>\n",
              "      <th>1970</th>\n",
              "      <td>536545</td>\n",
              "      <td>21134</td>\n",
              "      <td>NaN</td>\n",
              "      <td>1</td>\n",
              "      <td>12/1/10 14:32</td>\n",
              "      <td>0.0</td>\n",
              "      <td>NaN</td>\n",
              "      <td>United Kingdom</td>\n",
              "    </tr>\n",
              "    <tr>\n",
              "      <th>1971</th>\n",
              "      <td>536546</td>\n",
              "      <td>22145</td>\n",
              "      <td>NaN</td>\n",
              "      <td>1</td>\n",
              "      <td>12/1/10 14:33</td>\n",
              "      <td>0.0</td>\n",
              "      <td>NaN</td>\n",
              "      <td>United Kingdom</td>\n",
              "    </tr>\n",
              "    <tr>\n",
              "      <th>1972</th>\n",
              "      <td>536547</td>\n",
              "      <td>37509</td>\n",
              "      <td>NaN</td>\n",
              "      <td>1</td>\n",
              "      <td>12/1/10 14:33</td>\n",
              "      <td>0.0</td>\n",
              "      <td>NaN</td>\n",
              "      <td>United Kingdom</td>\n",
              "    </tr>\n",
              "    <tr>\n",
              "      <th>1987</th>\n",
              "      <td>536549</td>\n",
              "      <td>85226A</td>\n",
              "      <td>NaN</td>\n",
              "      <td>1</td>\n",
              "      <td>12/1/10 14:34</td>\n",
              "      <td>0.0</td>\n",
              "      <td>NaN</td>\n",
              "      <td>United Kingdom</td>\n",
              "    </tr>\n",
              "    <tr>\n",
              "      <th>1988</th>\n",
              "      <td>536550</td>\n",
              "      <td>85044</td>\n",
              "      <td>NaN</td>\n",
              "      <td>1</td>\n",
              "      <td>12/1/10 14:34</td>\n",
              "      <td>0.0</td>\n",
              "      <td>NaN</td>\n",
              "      <td>United Kingdom</td>\n",
              "    </tr>\n",
              "    <tr>\n",
              "      <th>2024</th>\n",
              "      <td>536552</td>\n",
              "      <td>20950</td>\n",
              "      <td>NaN</td>\n",
              "      <td>1</td>\n",
              "      <td>12/1/10 14:34</td>\n",
              "      <td>0.0</td>\n",
              "      <td>NaN</td>\n",
              "      <td>United Kingdom</td>\n",
              "    </tr>\n",
              "    <tr>\n",
              "      <th>2025</th>\n",
              "      <td>536553</td>\n",
              "      <td>37461</td>\n",
              "      <td>NaN</td>\n",
              "      <td>3</td>\n",
              "      <td>12/1/10 14:35</td>\n",
              "      <td>0.0</td>\n",
              "      <td>NaN</td>\n",
              "      <td>United Kingdom</td>\n",
              "    </tr>\n",
              "    <tr>\n",
              "      <th>2026</th>\n",
              "      <td>536554</td>\n",
              "      <td>84670</td>\n",
              "      <td>NaN</td>\n",
              "      <td>23</td>\n",
              "      <td>12/1/10 14:35</td>\n",
              "      <td>0.0</td>\n",
              "      <td>NaN</td>\n",
              "      <td>United Kingdom</td>\n",
              "    </tr>\n",
              "    <tr>\n",
              "      <th>2406</th>\n",
              "      <td>536589</td>\n",
              "      <td>21777</td>\n",
              "      <td>NaN</td>\n",
              "      <td>-10</td>\n",
              "      <td>12/1/10 16:50</td>\n",
              "      <td>0.0</td>\n",
              "      <td>NaN</td>\n",
              "      <td>United Kingdom</td>\n",
              "    </tr>\n",
              "  </tbody>\n",
              "</table>\n",
              "</div>"
            ],
            "text/plain": [
              "     InvoiceNo StockCode Description  ...  UnitPrice CustomerID         Country\n",
              "622     536414     22139         NaN  ...        0.0        NaN  United Kingdom\n",
              "1970    536545     21134         NaN  ...        0.0        NaN  United Kingdom\n",
              "1971    536546     22145         NaN  ...        0.0        NaN  United Kingdom\n",
              "1972    536547     37509         NaN  ...        0.0        NaN  United Kingdom\n",
              "1987    536549    85226A         NaN  ...        0.0        NaN  United Kingdom\n",
              "1988    536550     85044         NaN  ...        0.0        NaN  United Kingdom\n",
              "2024    536552     20950         NaN  ...        0.0        NaN  United Kingdom\n",
              "2025    536553     37461         NaN  ...        0.0        NaN  United Kingdom\n",
              "2026    536554     84670         NaN  ...        0.0        NaN  United Kingdom\n",
              "2406    536589     21777         NaN  ...        0.0        NaN  United Kingdom\n",
              "\n",
              "[10 rows x 8 columns]"
            ]
          },
          "metadata": {
            "tags": []
          },
          "execution_count": 320
        }
      ]
    },
    {
      "cell_type": "code",
      "metadata": {
        "id": "15f8k6r9OYZ4",
        "colab_type": "code",
        "outputId": "d6c7fab5-b69a-4503-9fda-7af7e259e6b5",
        "colab": {
          "base_uri": "https://localhost:8080/",
          "height": 348
        }
      },
      "source": [
        "sales[sales['CustomerID'].isnull()].head(10)"
      ],
      "execution_count": 321,
      "outputs": [
        {
          "output_type": "execute_result",
          "data": {
            "text/html": [
              "<div>\n",
              "<style scoped>\n",
              "    .dataframe tbody tr th:only-of-type {\n",
              "        vertical-align: middle;\n",
              "    }\n",
              "\n",
              "    .dataframe tbody tr th {\n",
              "        vertical-align: top;\n",
              "    }\n",
              "\n",
              "    .dataframe thead th {\n",
              "        text-align: right;\n",
              "    }\n",
              "</style>\n",
              "<table border=\"1\" class=\"dataframe\">\n",
              "  <thead>\n",
              "    <tr style=\"text-align: right;\">\n",
              "      <th></th>\n",
              "      <th>InvoiceNo</th>\n",
              "      <th>StockCode</th>\n",
              "      <th>Description</th>\n",
              "      <th>Quantity</th>\n",
              "      <th>InvoiceDate</th>\n",
              "      <th>UnitPrice</th>\n",
              "      <th>CustomerID</th>\n",
              "      <th>Country</th>\n",
              "    </tr>\n",
              "  </thead>\n",
              "  <tbody>\n",
              "    <tr>\n",
              "      <th>622</th>\n",
              "      <td>536414</td>\n",
              "      <td>22139</td>\n",
              "      <td>NaN</td>\n",
              "      <td>56</td>\n",
              "      <td>12/1/10 11:52</td>\n",
              "      <td>0.00</td>\n",
              "      <td>NaN</td>\n",
              "      <td>United Kingdom</td>\n",
              "    </tr>\n",
              "    <tr>\n",
              "      <th>1443</th>\n",
              "      <td>536544</td>\n",
              "      <td>21773</td>\n",
              "      <td>DECORATIVE ROSE BATHROOM BOTTLE</td>\n",
              "      <td>1</td>\n",
              "      <td>12/1/10 14:32</td>\n",
              "      <td>2.51</td>\n",
              "      <td>NaN</td>\n",
              "      <td>United Kingdom</td>\n",
              "    </tr>\n",
              "    <tr>\n",
              "      <th>1444</th>\n",
              "      <td>536544</td>\n",
              "      <td>21774</td>\n",
              "      <td>DECORATIVE CATS BATHROOM BOTTLE</td>\n",
              "      <td>2</td>\n",
              "      <td>12/1/10 14:32</td>\n",
              "      <td>2.51</td>\n",
              "      <td>NaN</td>\n",
              "      <td>United Kingdom</td>\n",
              "    </tr>\n",
              "    <tr>\n",
              "      <th>1445</th>\n",
              "      <td>536544</td>\n",
              "      <td>21786</td>\n",
              "      <td>POLKADOT RAIN HAT</td>\n",
              "      <td>4</td>\n",
              "      <td>12/1/10 14:32</td>\n",
              "      <td>0.85</td>\n",
              "      <td>NaN</td>\n",
              "      <td>United Kingdom</td>\n",
              "    </tr>\n",
              "    <tr>\n",
              "      <th>1446</th>\n",
              "      <td>536544</td>\n",
              "      <td>21787</td>\n",
              "      <td>RAIN PONCHO RETROSPOT</td>\n",
              "      <td>2</td>\n",
              "      <td>12/1/10 14:32</td>\n",
              "      <td>1.66</td>\n",
              "      <td>NaN</td>\n",
              "      <td>United Kingdom</td>\n",
              "    </tr>\n",
              "    <tr>\n",
              "      <th>1447</th>\n",
              "      <td>536544</td>\n",
              "      <td>21790</td>\n",
              "      <td>VINTAGE SNAP CARDS</td>\n",
              "      <td>9</td>\n",
              "      <td>12/1/10 14:32</td>\n",
              "      <td>1.66</td>\n",
              "      <td>NaN</td>\n",
              "      <td>United Kingdom</td>\n",
              "    </tr>\n",
              "    <tr>\n",
              "      <th>1448</th>\n",
              "      <td>536544</td>\n",
              "      <td>21791</td>\n",
              "      <td>VINTAGE HEADS AND TAILS CARD GAME</td>\n",
              "      <td>2</td>\n",
              "      <td>12/1/10 14:32</td>\n",
              "      <td>2.51</td>\n",
              "      <td>NaN</td>\n",
              "      <td>United Kingdom</td>\n",
              "    </tr>\n",
              "    <tr>\n",
              "      <th>1449</th>\n",
              "      <td>536544</td>\n",
              "      <td>21801</td>\n",
              "      <td>CHRISTMAS TREE DECORATION WITH BELL</td>\n",
              "      <td>10</td>\n",
              "      <td>12/1/10 14:32</td>\n",
              "      <td>0.43</td>\n",
              "      <td>NaN</td>\n",
              "      <td>United Kingdom</td>\n",
              "    </tr>\n",
              "    <tr>\n",
              "      <th>1450</th>\n",
              "      <td>536544</td>\n",
              "      <td>21802</td>\n",
              "      <td>CHRISTMAS TREE HEART DECORATION</td>\n",
              "      <td>9</td>\n",
              "      <td>12/1/10 14:32</td>\n",
              "      <td>0.43</td>\n",
              "      <td>NaN</td>\n",
              "      <td>United Kingdom</td>\n",
              "    </tr>\n",
              "    <tr>\n",
              "      <th>1451</th>\n",
              "      <td>536544</td>\n",
              "      <td>21803</td>\n",
              "      <td>CHRISTMAS TREE STAR DECORATION</td>\n",
              "      <td>11</td>\n",
              "      <td>12/1/10 14:32</td>\n",
              "      <td>0.43</td>\n",
              "      <td>NaN</td>\n",
              "      <td>United Kingdom</td>\n",
              "    </tr>\n",
              "  </tbody>\n",
              "</table>\n",
              "</div>"
            ],
            "text/plain": [
              "     InvoiceNo StockCode  ... CustomerID         Country\n",
              "622     536414     22139  ...        NaN  United Kingdom\n",
              "1443    536544     21773  ...        NaN  United Kingdom\n",
              "1444    536544     21774  ...        NaN  United Kingdom\n",
              "1445    536544     21786  ...        NaN  United Kingdom\n",
              "1446    536544     21787  ...        NaN  United Kingdom\n",
              "1447    536544     21790  ...        NaN  United Kingdom\n",
              "1448    536544     21791  ...        NaN  United Kingdom\n",
              "1449    536544     21801  ...        NaN  United Kingdom\n",
              "1450    536544     21802  ...        NaN  United Kingdom\n",
              "1451    536544     21803  ...        NaN  United Kingdom\n",
              "\n",
              "[10 rows x 8 columns]"
            ]
          },
          "metadata": {
            "tags": []
          },
          "execution_count": 321
        }
      ]
    },
    {
      "cell_type": "markdown",
      "metadata": {
        "id": "OpAhltPeHaLR",
        "colab_type": "text"
      },
      "source": [
        "**Exclude negative Quatity entries**"
      ]
    },
    {
      "cell_type": "code",
      "metadata": {
        "id": "CG7Gz1DoPEqt",
        "colab_type": "code",
        "outputId": "3ed94c6b-411f-4f9d-8f60-6a8336058489",
        "colab": {
          "base_uri": "https://localhost:8080/",
          "height": 254
        }
      },
      "source": [
        "sales_nonull = sales.dropna()\n",
        "sales_nonull.info()"
      ],
      "execution_count": 322,
      "outputs": [
        {
          "output_type": "stream",
          "text": [
            "<class 'pandas.core.frame.DataFrame'>\n",
            "Int64Index: 406829 entries, 0 to 541908\n",
            "Data columns (total 8 columns):\n",
            "InvoiceNo      406829 non-null object\n",
            "StockCode      406829 non-null object\n",
            "Description    406829 non-null object\n",
            "Quantity       406829 non-null int64\n",
            "InvoiceDate    406829 non-null object\n",
            "UnitPrice      406829 non-null float64\n",
            "CustomerID     406829 non-null float64\n",
            "Country        406829 non-null object\n",
            "dtypes: float64(2), int64(1), object(5)\n",
            "memory usage: 27.9+ MB\n"
          ],
          "name": "stdout"
        }
      ]
    },
    {
      "cell_type": "code",
      "metadata": {
        "id": "71F-5PY-HZ6T",
        "colab_type": "code",
        "outputId": "6d0ad27c-6100-43d4-cd46-f7b5b7e4b690",
        "colab": {
          "base_uri": "https://localhost:8080/",
          "height": 348
        }
      },
      "source": [
        "sales_nonull = sales_nonull[sales_nonull.Quantity >=0]\n",
        "#sales_nonull.head(10)\n",
        "sales_nonull.sample(10)"
      ],
      "execution_count": 323,
      "outputs": [
        {
          "output_type": "execute_result",
          "data": {
            "text/html": [
              "<div>\n",
              "<style scoped>\n",
              "    .dataframe tbody tr th:only-of-type {\n",
              "        vertical-align: middle;\n",
              "    }\n",
              "\n",
              "    .dataframe tbody tr th {\n",
              "        vertical-align: top;\n",
              "    }\n",
              "\n",
              "    .dataframe thead th {\n",
              "        text-align: right;\n",
              "    }\n",
              "</style>\n",
              "<table border=\"1\" class=\"dataframe\">\n",
              "  <thead>\n",
              "    <tr style=\"text-align: right;\">\n",
              "      <th></th>\n",
              "      <th>InvoiceNo</th>\n",
              "      <th>StockCode</th>\n",
              "      <th>Description</th>\n",
              "      <th>Quantity</th>\n",
              "      <th>InvoiceDate</th>\n",
              "      <th>UnitPrice</th>\n",
              "      <th>CustomerID</th>\n",
              "      <th>Country</th>\n",
              "    </tr>\n",
              "  </thead>\n",
              "  <tbody>\n",
              "    <tr>\n",
              "      <th>46938</th>\n",
              "      <td>540372</td>\n",
              "      <td>84692</td>\n",
              "      <td>BOX OF 24 COCKTAIL PARASOLS</td>\n",
              "      <td>25</td>\n",
              "      <td>1/6/11 16:41</td>\n",
              "      <td>0.42</td>\n",
              "      <td>13081.0</td>\n",
              "      <td>United Kingdom</td>\n",
              "    </tr>\n",
              "    <tr>\n",
              "      <th>379460</th>\n",
              "      <td>569694</td>\n",
              "      <td>23293</td>\n",
              "      <td>SET OF 12 FAIRY CAKE BAKING CASES</td>\n",
              "      <td>8</td>\n",
              "      <td>10/5/11 15:24</td>\n",
              "      <td>0.83</td>\n",
              "      <td>17735.0</td>\n",
              "      <td>United Kingdom</td>\n",
              "    </tr>\n",
              "    <tr>\n",
              "      <th>80831</th>\n",
              "      <td>543096</td>\n",
              "      <td>21872</td>\n",
              "      <td>GLAMOROUS  MUG</td>\n",
              "      <td>1</td>\n",
              "      <td>2/3/11 11:39</td>\n",
              "      <td>1.25</td>\n",
              "      <td>14044.0</td>\n",
              "      <td>United Kingdom</td>\n",
              "    </tr>\n",
              "    <tr>\n",
              "      <th>179476</th>\n",
              "      <td>552277</td>\n",
              "      <td>21124</td>\n",
              "      <td>SET/10 BLUE POLKADOT PARTY CANDLES</td>\n",
              "      <td>1</td>\n",
              "      <td>5/8/11 12:34</td>\n",
              "      <td>1.25</td>\n",
              "      <td>13642.0</td>\n",
              "      <td>United Kingdom</td>\n",
              "    </tr>\n",
              "    <tr>\n",
              "      <th>34202</th>\n",
              "      <td>539324</td>\n",
              "      <td>21154</td>\n",
              "      <td>RED RETROSPOT OVEN GLOVE</td>\n",
              "      <td>1</td>\n",
              "      <td>12/16/10 19:51</td>\n",
              "      <td>1.25</td>\n",
              "      <td>14985.0</td>\n",
              "      <td>United Kingdom</td>\n",
              "    </tr>\n",
              "    <tr>\n",
              "      <th>194219</th>\n",
              "      <td>553556</td>\n",
              "      <td>22556</td>\n",
              "      <td>PLASTERS IN TIN CIRCUS PARADE</td>\n",
              "      <td>3</td>\n",
              "      <td>5/17/11 16:48</td>\n",
              "      <td>1.65</td>\n",
              "      <td>17530.0</td>\n",
              "      <td>United Kingdom</td>\n",
              "    </tr>\n",
              "    <tr>\n",
              "      <th>7017</th>\n",
              "      <td>536986</td>\n",
              "      <td>22909</td>\n",
              "      <td>SET OF 20 VINTAGE CHRISTMAS NAPKINS</td>\n",
              "      <td>24</td>\n",
              "      <td>12/3/10 14:40</td>\n",
              "      <td>0.85</td>\n",
              "      <td>16140.0</td>\n",
              "      <td>United Kingdom</td>\n",
              "    </tr>\n",
              "    <tr>\n",
              "      <th>369780</th>\n",
              "      <td>569100</td>\n",
              "      <td>90152A</td>\n",
              "      <td>SILVER/NAT SHELL NECKLACE W PENDANT</td>\n",
              "      <td>1</td>\n",
              "      <td>9/30/11 12:19</td>\n",
              "      <td>5.95</td>\n",
              "      <td>12748.0</td>\n",
              "      <td>United Kingdom</td>\n",
              "    </tr>\n",
              "    <tr>\n",
              "      <th>332380</th>\n",
              "      <td>566061</td>\n",
              "      <td>23029</td>\n",
              "      <td>DRAWER KNOB CRACKLE GLAZE GREEN</td>\n",
              "      <td>12</td>\n",
              "      <td>9/8/11 15:36</td>\n",
              "      <td>1.65</td>\n",
              "      <td>13267.0</td>\n",
              "      <td>United Kingdom</td>\n",
              "    </tr>\n",
              "    <tr>\n",
              "      <th>361147</th>\n",
              "      <td>568328</td>\n",
              "      <td>23355</td>\n",
              "      <td>HOT WATER BOTTLE KEEP CALM</td>\n",
              "      <td>5</td>\n",
              "      <td>9/26/11 14:06</td>\n",
              "      <td>4.95</td>\n",
              "      <td>18016.0</td>\n",
              "      <td>United Kingdom</td>\n",
              "    </tr>\n",
              "  </tbody>\n",
              "</table>\n",
              "</div>"
            ],
            "text/plain": [
              "       InvoiceNo StockCode  ... CustomerID         Country\n",
              "46938     540372     84692  ...    13081.0  United Kingdom\n",
              "379460    569694     23293  ...    17735.0  United Kingdom\n",
              "80831     543096     21872  ...    14044.0  United Kingdom\n",
              "179476    552277     21124  ...    13642.0  United Kingdom\n",
              "34202     539324     21154  ...    14985.0  United Kingdom\n",
              "194219    553556     22556  ...    17530.0  United Kingdom\n",
              "7017      536986     22909  ...    16140.0  United Kingdom\n",
              "369780    569100    90152A  ...    12748.0  United Kingdom\n",
              "332380    566061     23029  ...    13267.0  United Kingdom\n",
              "361147    568328     23355  ...    18016.0  United Kingdom\n",
              "\n",
              "[10 rows x 8 columns]"
            ]
          },
          "metadata": {
            "tags": []
          },
          "execution_count": 323
        }
      ]
    },
    {
      "cell_type": "markdown",
      "metadata": {
        "id": "s5idc5z2H1zJ",
        "colab_type": "text"
      },
      "source": [
        "**Exclude negative Price entries**"
      ]
    },
    {
      "cell_type": "code",
      "metadata": {
        "id": "_8OdtEVFH1fr",
        "colab_type": "code",
        "outputId": "150efcbb-75ab-4b32-8dd0-2cf2dd28062a",
        "colab": {
          "base_uri": "https://localhost:8080/",
          "height": 348
        }
      },
      "source": [
        "sales_nonull = sales_nonull[sales_nonull.UnitPrice >=0]\n",
        "sales_nonull.sample(10)"
      ],
      "execution_count": 324,
      "outputs": [
        {
          "output_type": "execute_result",
          "data": {
            "text/html": [
              "<div>\n",
              "<style scoped>\n",
              "    .dataframe tbody tr th:only-of-type {\n",
              "        vertical-align: middle;\n",
              "    }\n",
              "\n",
              "    .dataframe tbody tr th {\n",
              "        vertical-align: top;\n",
              "    }\n",
              "\n",
              "    .dataframe thead th {\n",
              "        text-align: right;\n",
              "    }\n",
              "</style>\n",
              "<table border=\"1\" class=\"dataframe\">\n",
              "  <thead>\n",
              "    <tr style=\"text-align: right;\">\n",
              "      <th></th>\n",
              "      <th>InvoiceNo</th>\n",
              "      <th>StockCode</th>\n",
              "      <th>Description</th>\n",
              "      <th>Quantity</th>\n",
              "      <th>InvoiceDate</th>\n",
              "      <th>UnitPrice</th>\n",
              "      <th>CustomerID</th>\n",
              "      <th>Country</th>\n",
              "    </tr>\n",
              "  </thead>\n",
              "  <tbody>\n",
              "    <tr>\n",
              "      <th>212989</th>\n",
              "      <td>555515</td>\n",
              "      <td>22907</td>\n",
              "      <td>PACK OF 20 NAPKINS PANTRY DESIGN</td>\n",
              "      <td>8</td>\n",
              "      <td>6/5/11 10:47</td>\n",
              "      <td>0.85</td>\n",
              "      <td>17690.0</td>\n",
              "      <td>United Kingdom</td>\n",
              "    </tr>\n",
              "    <tr>\n",
              "      <th>90231</th>\n",
              "      <td>543989</td>\n",
              "      <td>21195</td>\n",
              "      <td>PINK  HONEYCOMB PAPER BALL</td>\n",
              "      <td>48</td>\n",
              "      <td>2/15/11 9:52</td>\n",
              "      <td>1.69</td>\n",
              "      <td>12415.0</td>\n",
              "      <td>Australia</td>\n",
              "    </tr>\n",
              "    <tr>\n",
              "      <th>128925</th>\n",
              "      <td>547367</td>\n",
              "      <td>22262</td>\n",
              "      <td>FELT EGG COSY CHICKEN</td>\n",
              "      <td>2</td>\n",
              "      <td>3/22/11 13:11</td>\n",
              "      <td>0.85</td>\n",
              "      <td>15437.0</td>\n",
              "      <td>United Kingdom</td>\n",
              "    </tr>\n",
              "    <tr>\n",
              "      <th>17321</th>\n",
              "      <td>537707</td>\n",
              "      <td>22900</td>\n",
              "      <td>SET 2 TEA TOWELS I LOVE LONDON</td>\n",
              "      <td>6</td>\n",
              "      <td>12/8/10 10:53</td>\n",
              "      <td>2.95</td>\n",
              "      <td>14032.0</td>\n",
              "      <td>United Kingdom</td>\n",
              "    </tr>\n",
              "    <tr>\n",
              "      <th>360575</th>\n",
              "      <td>568236</td>\n",
              "      <td>23313</td>\n",
              "      <td>VINTAGE CHRISTMAS BUNTING</td>\n",
              "      <td>5</td>\n",
              "      <td>9/26/11 11:49</td>\n",
              "      <td>4.95</td>\n",
              "      <td>12820.0</td>\n",
              "      <td>United Kingdom</td>\n",
              "    </tr>\n",
              "    <tr>\n",
              "      <th>295685</th>\n",
              "      <td>562807</td>\n",
              "      <td>23240</td>\n",
              "      <td>SET OF 4 KNICK KNACK TINS  DOILEY</td>\n",
              "      <td>6</td>\n",
              "      <td>8/9/11 14:57</td>\n",
              "      <td>4.15</td>\n",
              "      <td>16053.0</td>\n",
              "      <td>United Kingdom</td>\n",
              "    </tr>\n",
              "    <tr>\n",
              "      <th>344072</th>\n",
              "      <td>566981</td>\n",
              "      <td>20727</td>\n",
              "      <td>LUNCH BAG  BLACK SKULL.</td>\n",
              "      <td>10</td>\n",
              "      <td>9/16/11 10:02</td>\n",
              "      <td>1.65</td>\n",
              "      <td>15498.0</td>\n",
              "      <td>United Kingdom</td>\n",
              "    </tr>\n",
              "    <tr>\n",
              "      <th>232830</th>\n",
              "      <td>557330</td>\n",
              "      <td>21499</td>\n",
              "      <td>BLUE POLKADOT WRAP</td>\n",
              "      <td>25</td>\n",
              "      <td>6/20/11 10:20</td>\n",
              "      <td>0.42</td>\n",
              "      <td>14291.0</td>\n",
              "      <td>United Kingdom</td>\n",
              "    </tr>\n",
              "    <tr>\n",
              "      <th>299539</th>\n",
              "      <td>563104</td>\n",
              "      <td>21340</td>\n",
              "      <td>CLASSIC METAL BIRDCAGE PLANT HOLDER</td>\n",
              "      <td>2</td>\n",
              "      <td>8/12/11 10:13</td>\n",
              "      <td>12.75</td>\n",
              "      <td>13888.0</td>\n",
              "      <td>United Kingdom</td>\n",
              "    </tr>\n",
              "    <tr>\n",
              "      <th>464192</th>\n",
              "      <td>576078</td>\n",
              "      <td>21981</td>\n",
              "      <td>PACK OF 12 WOODLAND TISSUES</td>\n",
              "      <td>12</td>\n",
              "      <td>11/13/11 16:22</td>\n",
              "      <td>0.39</td>\n",
              "      <td>14432.0</td>\n",
              "      <td>United Kingdom</td>\n",
              "    </tr>\n",
              "  </tbody>\n",
              "</table>\n",
              "</div>"
            ],
            "text/plain": [
              "       InvoiceNo StockCode  ... CustomerID         Country\n",
              "212989    555515     22907  ...    17690.0  United Kingdom\n",
              "90231     543989     21195  ...    12415.0       Australia\n",
              "128925    547367     22262  ...    15437.0  United Kingdom\n",
              "17321     537707     22900  ...    14032.0  United Kingdom\n",
              "360575    568236     23313  ...    12820.0  United Kingdom\n",
              "295685    562807     23240  ...    16053.0  United Kingdom\n",
              "344072    566981     20727  ...    15498.0  United Kingdom\n",
              "232830    557330     21499  ...    14291.0  United Kingdom\n",
              "299539    563104     21340  ...    13888.0  United Kingdom\n",
              "464192    576078     21981  ...    14432.0  United Kingdom\n",
              "\n",
              "[10 rows x 8 columns]"
            ]
          },
          "metadata": {
            "tags": []
          },
          "execution_count": 324
        }
      ]
    },
    {
      "cell_type": "markdown",
      "metadata": {
        "id": "Ikd1t-v3Pm17",
        "colab_type": "text"
      },
      "source": [
        "### Step 3 - EDA"
      ]
    },
    {
      "cell_type": "markdown",
      "metadata": {
        "id": "-T3iojz1If_r",
        "colab_type": "text"
      },
      "source": [
        "**The customer with the highest number of orders comes from the United Kingdom (UK)**"
      ]
    },
    {
      "cell_type": "code",
      "metadata": {
        "id": "qIUoWtlPIhxJ",
        "colab_type": "code",
        "outputId": "bcffadc7-1fc9-4bdd-9294-05e0a27938e2",
        "colab": {
          "base_uri": "https://localhost:8080/",
          "height": 78
        }
      },
      "source": [
        "# Your code here\n",
        "sales_nonull.groupby(by=['CustomerID','Country'], as_index=False)['InvoiceNo'].count().head(1)"
      ],
      "execution_count": 325,
      "outputs": [
        {
          "output_type": "execute_result",
          "data": {
            "text/html": [
              "<div>\n",
              "<style scoped>\n",
              "    .dataframe tbody tr th:only-of-type {\n",
              "        vertical-align: middle;\n",
              "    }\n",
              "\n",
              "    .dataframe tbody tr th {\n",
              "        vertical-align: top;\n",
              "    }\n",
              "\n",
              "    .dataframe thead th {\n",
              "        text-align: right;\n",
              "    }\n",
              "</style>\n",
              "<table border=\"1\" class=\"dataframe\">\n",
              "  <thead>\n",
              "    <tr style=\"text-align: right;\">\n",
              "      <th></th>\n",
              "      <th>CustomerID</th>\n",
              "      <th>Country</th>\n",
              "      <th>InvoiceNo</th>\n",
              "    </tr>\n",
              "  </thead>\n",
              "  <tbody>\n",
              "    <tr>\n",
              "      <th>0</th>\n",
              "      <td>12346.0</td>\n",
              "      <td>United Kingdom</td>\n",
              "      <td>1</td>\n",
              "    </tr>\n",
              "  </tbody>\n",
              "</table>\n",
              "</div>"
            ],
            "text/plain": [
              "   CustomerID         Country  InvoiceNo\n",
              "0     12346.0  United Kingdom          1"
            ]
          },
          "metadata": {
            "tags": []
          },
          "execution_count": 325
        }
      ]
    },
    {
      "cell_type": "markdown",
      "metadata": {
        "id": "9yUfXWelIiTg",
        "colab_type": "text"
      },
      "source": [
        "**The customer with the highest money spent on purchases comes from Netherlands**\n",
        "\n",
        "> Indented block\n",
        "\n"
      ]
    },
    {
      "cell_type": "code",
      "metadata": {
        "id": "HxGvR_5_XHoT",
        "colab_type": "code",
        "colab": {}
      },
      "source": [
        "sales_nonull['MoneySpent'] = sales_nonull['Quantity'] * sales_nonull['UnitPrice']\n",
        "#sales_nonull.head(5)\n"
      ],
      "execution_count": 0,
      "outputs": []
    },
    {
      "cell_type": "code",
      "metadata": {
        "id": "qCN_rIThJDRj",
        "colab_type": "code",
        "outputId": "d5ed9dd5-230e-4c61-dc9f-dfed01bf4f4d",
        "colab": {
          "base_uri": "https://localhost:8080/",
          "height": 78
        }
      },
      "source": [
        "# Your code here\n",
        "money = sales_nonull.groupby(by=['CustomerID','Country'], as_index = False)['MoneySpent'].sum()\n",
        "#money.info()\n",
        "money.sort_values(by='MoneySpent', ascending=False).head(1)\n"
      ],
      "execution_count": 327,
      "outputs": [
        {
          "output_type": "execute_result",
          "data": {
            "text/html": [
              "<div>\n",
              "<style scoped>\n",
              "    .dataframe tbody tr th:only-of-type {\n",
              "        vertical-align: middle;\n",
              "    }\n",
              "\n",
              "    .dataframe tbody tr th {\n",
              "        vertical-align: top;\n",
              "    }\n",
              "\n",
              "    .dataframe thead th {\n",
              "        text-align: right;\n",
              "    }\n",
              "</style>\n",
              "<table border=\"1\" class=\"dataframe\">\n",
              "  <thead>\n",
              "    <tr style=\"text-align: right;\">\n",
              "      <th></th>\n",
              "      <th>CustomerID</th>\n",
              "      <th>Country</th>\n",
              "      <th>MoneySpent</th>\n",
              "    </tr>\n",
              "  </thead>\n",
              "  <tbody>\n",
              "    <tr>\n",
              "      <th>1698</th>\n",
              "      <td>14646.0</td>\n",
              "      <td>Netherlands</td>\n",
              "      <td>280206.02</td>\n",
              "    </tr>\n",
              "  </tbody>\n",
              "</table>\n",
              "</div>"
            ],
            "text/plain": [
              "      CustomerID      Country  MoneySpent\n",
              "1698     14646.0  Netherlands   280206.02"
            ]
          },
          "metadata": {
            "tags": []
          },
          "execution_count": 327
        }
      ]
    },
    {
      "cell_type": "markdown",
      "metadata": {
        "id": "Tbvxe05yZeOl",
        "colab_type": "text"
      },
      "source": [
        "**Add years, months and hour column**"
      ]
    },
    {
      "cell_type": "code",
      "metadata": {
        "id": "0V0p4fH4pt9e",
        "colab_type": "code",
        "colab": {
          "base_uri": "https://localhost:8080/",
          "height": 272
        },
        "outputId": "69b58c2b-0fcf-4d48-c76b-15c0b7697f6a"
      },
      "source": [
        "sales_nonull['InvoiceDate'] = pd.to_datetime(sales_nonull.InvoiceDate, format='%m/%d/%y %H:%M')\n",
        "sales_nonull.info()"
      ],
      "execution_count": 328,
      "outputs": [
        {
          "output_type": "stream",
          "text": [
            "<class 'pandas.core.frame.DataFrame'>\n",
            "Int64Index: 397924 entries, 0 to 541908\n",
            "Data columns (total 9 columns):\n",
            "InvoiceNo      397924 non-null object\n",
            "StockCode      397924 non-null object\n",
            "Description    397924 non-null object\n",
            "Quantity       397924 non-null int64\n",
            "InvoiceDate    397924 non-null datetime64[ns]\n",
            "UnitPrice      397924 non-null float64\n",
            "CustomerID     397924 non-null float64\n",
            "Country        397924 non-null object\n",
            "MoneySpent     397924 non-null float64\n",
            "dtypes: datetime64[ns](1), float64(3), int64(1), object(4)\n",
            "memory usage: 30.4+ MB\n"
          ],
          "name": "stdout"
        }
      ]
    },
    {
      "cell_type": "code",
      "metadata": {
        "id": "qPnUWUUFZdKN",
        "colab_type": "code",
        "colab": {}
      },
      "source": [
        "sales_nonull.insert(loc=2, column='Year', value=sales_nonull['InvoiceDate'].map(lambda x: x.year))\n",
        "sales_nonull.insert(loc=3, column='Month', value=sales_nonull.InvoiceDate.dt.month)\n",
        "sales_nonull.insert(loc=4, column='Day', value=(sales_nonull.InvoiceDate.dt.dayofweek)+1)\n",
        "sales_nonull.insert(loc=5, column='Hour', value=sales_nonull.InvoiceDate.dt.hour)\n",
        "sales_nonull.insert(loc=6, column='Year_Month', value=sales_nonull['InvoiceDate'].map(lambda x: 100*x.year + x.month))\n"
      ],
      "execution_count": 0,
      "outputs": []
    },
    {
      "cell_type": "code",
      "metadata": {
        "id": "Pw2nRSZZvyX6",
        "colab_type": "code",
        "colab": {
          "base_uri": "https://localhost:8080/",
          "height": 348
        },
        "outputId": "d2f9735d-c820-49df-f7fe-6aca9df02624"
      },
      "source": [
        "sales_nonull.sample(10)"
      ],
      "execution_count": 330,
      "outputs": [
        {
          "output_type": "execute_result",
          "data": {
            "text/html": [
              "<div>\n",
              "<style scoped>\n",
              "    .dataframe tbody tr th:only-of-type {\n",
              "        vertical-align: middle;\n",
              "    }\n",
              "\n",
              "    .dataframe tbody tr th {\n",
              "        vertical-align: top;\n",
              "    }\n",
              "\n",
              "    .dataframe thead th {\n",
              "        text-align: right;\n",
              "    }\n",
              "</style>\n",
              "<table border=\"1\" class=\"dataframe\">\n",
              "  <thead>\n",
              "    <tr style=\"text-align: right;\">\n",
              "      <th></th>\n",
              "      <th>InvoiceNo</th>\n",
              "      <th>StockCode</th>\n",
              "      <th>Year</th>\n",
              "      <th>Month</th>\n",
              "      <th>Day</th>\n",
              "      <th>Hour</th>\n",
              "      <th>Year_Month</th>\n",
              "      <th>Description</th>\n",
              "      <th>Quantity</th>\n",
              "      <th>InvoiceDate</th>\n",
              "      <th>UnitPrice</th>\n",
              "      <th>CustomerID</th>\n",
              "      <th>Country</th>\n",
              "      <th>MoneySpent</th>\n",
              "    </tr>\n",
              "  </thead>\n",
              "  <tbody>\n",
              "    <tr>\n",
              "      <th>348576</th>\n",
              "      <td>567459</td>\n",
              "      <td>23029</td>\n",
              "      <td>2011</td>\n",
              "      <td>9</td>\n",
              "      <td>2</td>\n",
              "      <td>12</td>\n",
              "      <td>201109</td>\n",
              "      <td>DRAWER KNOB CRACKLE GLAZE GREEN</td>\n",
              "      <td>6</td>\n",
              "      <td>2011-09-20 12:21:00</td>\n",
              "      <td>1.65</td>\n",
              "      <td>14221.0</td>\n",
              "      <td>United Kingdom</td>\n",
              "      <td>9.90</td>\n",
              "    </tr>\n",
              "    <tr>\n",
              "      <th>238077</th>\n",
              "      <td>557896</td>\n",
              "      <td>22176</td>\n",
              "      <td>2011</td>\n",
              "      <td>6</td>\n",
              "      <td>4</td>\n",
              "      <td>14</td>\n",
              "      <td>201106</td>\n",
              "      <td>BLUE OWL SOFT TOY</td>\n",
              "      <td>1</td>\n",
              "      <td>2011-06-23 14:22:00</td>\n",
              "      <td>2.95</td>\n",
              "      <td>17611.0</td>\n",
              "      <td>United Kingdom</td>\n",
              "      <td>2.95</td>\n",
              "    </tr>\n",
              "    <tr>\n",
              "      <th>373263</th>\n",
              "      <td>569319</td>\n",
              "      <td>23524</td>\n",
              "      <td>2011</td>\n",
              "      <td>10</td>\n",
              "      <td>1</td>\n",
              "      <td>12</td>\n",
              "      <td>201110</td>\n",
              "      <td>HORSE &amp; PONY WALL ART</td>\n",
              "      <td>6</td>\n",
              "      <td>2011-10-03 12:17:00</td>\n",
              "      <td>3.75</td>\n",
              "      <td>14290.0</td>\n",
              "      <td>United Kingdom</td>\n",
              "      <td>22.50</td>\n",
              "    </tr>\n",
              "    <tr>\n",
              "      <th>224003</th>\n",
              "      <td>556502</td>\n",
              "      <td>23209</td>\n",
              "      <td>2011</td>\n",
              "      <td>6</td>\n",
              "      <td>1</td>\n",
              "      <td>8</td>\n",
              "      <td>201106</td>\n",
              "      <td>LUNCH BAG DOILEY PATTERN</td>\n",
              "      <td>10</td>\n",
              "      <td>2011-06-13 08:43:00</td>\n",
              "      <td>1.65</td>\n",
              "      <td>13761.0</td>\n",
              "      <td>United Kingdom</td>\n",
              "      <td>16.50</td>\n",
              "    </tr>\n",
              "    <tr>\n",
              "      <th>18304</th>\n",
              "      <td>537818</td>\n",
              "      <td>22483</td>\n",
              "      <td>2010</td>\n",
              "      <td>12</td>\n",
              "      <td>3</td>\n",
              "      <td>13</td>\n",
              "      <td>201012</td>\n",
              "      <td>RED GINGHAM TEDDY BEAR</td>\n",
              "      <td>6</td>\n",
              "      <td>2010-12-08 13:53:00</td>\n",
              "      <td>2.95</td>\n",
              "      <td>12766.0</td>\n",
              "      <td>Portugal</td>\n",
              "      <td>17.70</td>\n",
              "    </tr>\n",
              "    <tr>\n",
              "      <th>128611</th>\n",
              "      <td>547358</td>\n",
              "      <td>23230</td>\n",
              "      <td>2011</td>\n",
              "      <td>3</td>\n",
              "      <td>2</td>\n",
              "      <td>12</td>\n",
              "      <td>201103</td>\n",
              "      <td>WRAP ALPHABET DESIGN</td>\n",
              "      <td>25</td>\n",
              "      <td>2011-03-22 12:25:00</td>\n",
              "      <td>0.42</td>\n",
              "      <td>15998.0</td>\n",
              "      <td>United Kingdom</td>\n",
              "      <td>10.50</td>\n",
              "    </tr>\n",
              "    <tr>\n",
              "      <th>108326</th>\n",
              "      <td>545530</td>\n",
              "      <td>22385</td>\n",
              "      <td>2011</td>\n",
              "      <td>3</td>\n",
              "      <td>4</td>\n",
              "      <td>13</td>\n",
              "      <td>201103</td>\n",
              "      <td>JUMBO BAG SPACEBOY DESIGN</td>\n",
              "      <td>10</td>\n",
              "      <td>2011-03-03 13:45:00</td>\n",
              "      <td>1.95</td>\n",
              "      <td>17416.0</td>\n",
              "      <td>United Kingdom</td>\n",
              "      <td>19.50</td>\n",
              "    </tr>\n",
              "    <tr>\n",
              "      <th>205652</th>\n",
              "      <td>554826</td>\n",
              "      <td>23209</td>\n",
              "      <td>2011</td>\n",
              "      <td>5</td>\n",
              "      <td>4</td>\n",
              "      <td>14</td>\n",
              "      <td>201105</td>\n",
              "      <td>LUNCH BAG DOILEY PATTERN</td>\n",
              "      <td>10</td>\n",
              "      <td>2011-05-26 14:53:00</td>\n",
              "      <td>1.65</td>\n",
              "      <td>12493.0</td>\n",
              "      <td>France</td>\n",
              "      <td>16.50</td>\n",
              "    </tr>\n",
              "    <tr>\n",
              "      <th>369775</th>\n",
              "      <td>569097</td>\n",
              "      <td>22382</td>\n",
              "      <td>2011</td>\n",
              "      <td>9</td>\n",
              "      <td>5</td>\n",
              "      <td>12</td>\n",
              "      <td>201109</td>\n",
              "      <td>LUNCH BAG SPACEBOY DESIGN</td>\n",
              "      <td>20</td>\n",
              "      <td>2011-09-30 12:06:00</td>\n",
              "      <td>1.65</td>\n",
              "      <td>12731.0</td>\n",
              "      <td>France</td>\n",
              "      <td>33.00</td>\n",
              "    </tr>\n",
              "    <tr>\n",
              "      <th>358493</th>\n",
              "      <td>568151</td>\n",
              "      <td>22189</td>\n",
              "      <td>2011</td>\n",
              "      <td>9</td>\n",
              "      <td>7</td>\n",
              "      <td>11</td>\n",
              "      <td>201109</td>\n",
              "      <td>CREAM HEART CARD HOLDER</td>\n",
              "      <td>8</td>\n",
              "      <td>2011-09-25 11:39:00</td>\n",
              "      <td>3.95</td>\n",
              "      <td>17506.0</td>\n",
              "      <td>United Kingdom</td>\n",
              "      <td>31.60</td>\n",
              "    </tr>\n",
              "  </tbody>\n",
              "</table>\n",
              "</div>"
            ],
            "text/plain": [
              "       InvoiceNo StockCode  Year  ...  CustomerID         Country  MoneySpent\n",
              "348576    567459     23029  2011  ...     14221.0  United Kingdom        9.90\n",
              "238077    557896     22176  2011  ...     17611.0  United Kingdom        2.95\n",
              "373263    569319     23524  2011  ...     14290.0  United Kingdom       22.50\n",
              "224003    556502     23209  2011  ...     13761.0  United Kingdom       16.50\n",
              "18304     537818     22483  2010  ...     12766.0        Portugal       17.70\n",
              "128611    547358     23230  2011  ...     15998.0  United Kingdom       10.50\n",
              "108326    545530     22385  2011  ...     17416.0  United Kingdom       19.50\n",
              "205652    554826     23209  2011  ...     12493.0          France       16.50\n",
              "369775    569097     22382  2011  ...     12731.0          France       33.00\n",
              "358493    568151     22189  2011  ...     17506.0  United Kingdom       31.60\n",
              "\n",
              "[10 rows x 14 columns]"
            ]
          },
          "metadata": {
            "tags": []
          },
          "execution_count": 330
        }
      ]
    },
    {
      "cell_type": "markdown",
      "metadata": {
        "id": "UcCxS85hIwLb",
        "colab_type": "text"
      },
      "source": [
        "** *italicized text* On which year had the highest sales?**"
      ]
    },
    {
      "cell_type": "code",
      "metadata": {
        "id": "i-7RsisUI_gc",
        "colab_type": "code",
        "colab": {
          "base_uri": "https://localhost:8080/",
          "height": 90
        },
        "outputId": "c49824de-1046-4b39-b66c-41909914f111"
      },
      "source": [
        "# Your code here\n",
        "sales_nonull.groupby(by=['Year'])['Quantity'].sum()\n"
      ],
      "execution_count": 331,
      "outputs": [
        {
          "output_type": "execute_result",
          "data": {
            "text/plain": [
              "Year\n",
              "2010     312280\n",
              "2011    4869416\n",
              "Name: Quantity, dtype: int64"
            ]
          },
          "metadata": {
            "tags": []
          },
          "execution_count": 331
        }
      ]
    },
    {
      "cell_type": "markdown",
      "metadata": {
        "id": "W-IKvzruKHXb",
        "colab_type": "text"
      },
      "source": [
        "**How many orders (per hour)?**"
      ]
    },
    {
      "cell_type": "code",
      "metadata": {
        "id": "RHS5ridWKQ4u",
        "colab_type": "code",
        "colab": {
          "base_uri": "https://localhost:8080/",
          "height": 308
        },
        "outputId": "5d11cd81-9839-428e-b534-3ba39602573a"
      },
      "source": [
        "sales_nonull.groupby('InvoiceNo')['Hour'].unique().value_counts().iloc[:-1].sort_index()"
      ],
      "execution_count": 332,
      "outputs": [
        {
          "output_type": "execute_result",
          "data": {
            "text/plain": [
              "[6]        1\n",
              "[7]       29\n",
              "[8]      555\n",
              "[9]     1394\n",
              "[10]    2226\n",
              "[11]    2276\n",
              "[12]    3129\n",
              "[13]    2637\n",
              "[14]    2275\n",
              "[15]    2038\n",
              "[16]    1100\n",
              "[17]     544\n",
              "[18]     169\n",
              "[19]     144\n",
              "[20]      18\n",
              "Name: Hour, dtype: int64"
            ]
          },
          "metadata": {
            "tags": []
          },
          "execution_count": 332
        }
      ]
    },
    {
      "cell_type": "markdown",
      "metadata": {
        "id": "dqCZUmx0KKfS",
        "colab_type": "text"
      },
      "source": [
        "**Make a plot about number of orders per hour**"
      ]
    },
    {
      "cell_type": "code",
      "metadata": {
        "id": "-KPgD51AKKE6",
        "colab_type": "code",
        "colab": {
          "base_uri": "https://localhost:8080/",
          "height": 392
        },
        "outputId": "d39c0754-17c2-4b33-ae5b-173d6af0c9e7"
      },
      "source": [
        "hour_plot = sales_nonull.groupby('InvoiceNo')['Hour'].unique().value_counts().iloc[:-1].sort_index().plot('bar',figsize=(15,6))\n",
        "hour_plot.set_xlabel('Hour',fontsize=10)\n",
        "hour_plot.set_ylabel('Number of Orders',fontsize=10)\n",
        "hour_plot.set_xticklabels(range(6,21), rotation='horizontal', fontsize=10)\n",
        "plt.show()"
      ],
      "execution_count": 333,
      "outputs": [
        {
          "output_type": "display_data",
          "data": {
            "image/png": "[encoded data removed]",
            "text/plain": [
              "<Figure size 1080x432 with 1 Axes>"
            ]
          },
          "metadata": {
            "tags": []
          }
        }
      ]
    },
    {
      "cell_type": "markdown",
      "metadata": {
        "colab_type": "text",
        "id": "-8ZwTvS6L0vS"
      },
      "source": [
        "**How many orders (per month)?**"
      ]
    },
    {
      "cell_type": "code",
      "metadata": {
        "colab_type": "code",
        "id": "NeOp_6a3L0vX",
        "colab": {
          "base_uri": "https://localhost:8080/",
          "height": 254
        },
        "outputId": "0912b535-6702-43a0-f1a6-7ab28d30f723"
      },
      "source": [
        "sales_nonull.groupby('InvoiceNo')['Year_Month'].unique().value_counts().iloc[:-1].sort_index()"
      ],
      "execution_count": 336,
      "outputs": [
        {
          "output_type": "execute_result",
          "data": {
            "text/plain": [
              "[201012]    1400\n",
              "[201101]     987\n",
              "[201102]     998\n",
              "[201103]    1321\n",
              "[201104]    1149\n",
              "[201105]    1555\n",
              "[201106]    1393\n",
              "[201107]    1331\n",
              "[201108]    1281\n",
              "[201109]    1756\n",
              "[201110]    1929\n",
              "[201111]    2658\n",
              "Name: Year_Month, dtype: int64"
            ]
          },
          "metadata": {
            "tags": []
          },
          "execution_count": 336
        }
      ]
    },
    {
      "cell_type": "markdown",
      "metadata": {
        "colab_type": "text",
        "id": "sOYrMUczL0vb"
      },
      "source": [
        "**Make a plot about number of orders per month**"
      ]
    },
    {
      "cell_type": "code",
      "metadata": {
        "id": "e7RJQ5MbL4cY",
        "colab_type": "code",
        "colab": {
          "base_uri": "https://localhost:8080/",
          "height": 392
        },
        "outputId": "bff0d20a-4215-4a24-8d1f-eba8b95b9e0a"
      },
      "source": [
        "ax = sales_nonull.groupby('InvoiceNo')['Year_Month'].unique().value_counts().sort_index().plot('bar',figsize=(15,6))\n",
        "ax.set_xlabel('Month',fontsize=10)\n",
        "ax.set_ylabel('Number of Orders',fontsize=10)\n",
        "ax.set_xticklabels(('Dec 10','Jan 11','Feb 11','Mar 11','Apr 11','May 11','Jun 11','July 11','Aug 11','Sep 11','Oct 11','Nov 11','Dec 11'), rotation='horizontal', fontsize=10)\n",
        "plt.show()"
      ],
      "execution_count": 342,
      "outputs": [
        {
          "output_type": "display_data",
          "data": {
            "image/png": "[encoded data removed]",
            "text/plain": [
              "<Figure size 1080x432 with 1 Axes>"
            ]
          },
          "metadata": {
            "tags": []
          }
        }
      ]
    },
    {
      "cell_type": "markdown",
      "metadata": {
        "id": "E3eeyQeBLd6e",
        "colab_type": "text"
      },
      "source": [
        "** *italicized text*Top 10 items most sales**"
      ]
    },
    {
      "cell_type": "code",
      "metadata": {
        "id": "4trjB9ZjLhEv",
        "colab_type": "code",
        "colab": {
          "base_uri": "https://localhost:8080/",
          "height": 348
        },
        "outputId": "e078be79-6909-49d4-aee5-105856ef3ffc"
      },
      "source": [
        "sales_nonull.sort_values(by=['Quantity'], ascending = False).head(10)"
      ],
      "execution_count": 353,
      "outputs": [
        {
          "output_type": "execute_result",
          "data": {
            "text/html": [
              "<div>\n",
              "<style scoped>\n",
              "    .dataframe tbody tr th:only-of-type {\n",
              "        vertical-align: middle;\n",
              "    }\n",
              "\n",
              "    .dataframe tbody tr th {\n",
              "        vertical-align: top;\n",
              "    }\n",
              "\n",
              "    .dataframe thead th {\n",
              "        text-align: right;\n",
              "    }\n",
              "</style>\n",
              "<table border=\"1\" class=\"dataframe\">\n",
              "  <thead>\n",
              "    <tr style=\"text-align: right;\">\n",
              "      <th></th>\n",
              "      <th>InvoiceNo</th>\n",
              "      <th>StockCode</th>\n",
              "      <th>Year</th>\n",
              "      <th>Month</th>\n",
              "      <th>Day</th>\n",
              "      <th>Hour</th>\n",
              "      <th>Year_Month</th>\n",
              "      <th>Description</th>\n",
              "      <th>Quantity</th>\n",
              "      <th>InvoiceDate</th>\n",
              "      <th>UnitPrice</th>\n",
              "      <th>CustomerID</th>\n",
              "      <th>Country</th>\n",
              "      <th>MoneySpent</th>\n",
              "    </tr>\n",
              "  </thead>\n",
              "  <tbody>\n",
              "    <tr>\n",
              "      <th>540421</th>\n",
              "      <td>581483</td>\n",
              "      <td>23843</td>\n",
              "      <td>2011</td>\n",
              "      <td>12</td>\n",
              "      <td>5</td>\n",
              "      <td>9</td>\n",
              "      <td>201112</td>\n",
              "      <td>PAPER CRAFT , LITTLE BIRDIE</td>\n",
              "      <td>80995</td>\n",
              "      <td>2011-12-09 09:15:00</td>\n",
              "      <td>2.08</td>\n",
              "      <td>16446.0</td>\n",
              "      <td>United Kingdom</td>\n",
              "      <td>168469.60</td>\n",
              "    </tr>\n",
              "    <tr>\n",
              "      <th>61619</th>\n",
              "      <td>541431</td>\n",
              "      <td>23166</td>\n",
              "      <td>2011</td>\n",
              "      <td>1</td>\n",
              "      <td>2</td>\n",
              "      <td>10</td>\n",
              "      <td>201101</td>\n",
              "      <td>MEDIUM CERAMIC TOP STORAGE JAR</td>\n",
              "      <td>74215</td>\n",
              "      <td>2011-01-18 10:01:00</td>\n",
              "      <td>1.04</td>\n",
              "      <td>12346.0</td>\n",
              "      <td>United Kingdom</td>\n",
              "      <td>77183.60</td>\n",
              "    </tr>\n",
              "    <tr>\n",
              "      <th>502122</th>\n",
              "      <td>578841</td>\n",
              "      <td>84826</td>\n",
              "      <td>2011</td>\n",
              "      <td>11</td>\n",
              "      <td>5</td>\n",
              "      <td>15</td>\n",
              "      <td>201111</td>\n",
              "      <td>ASSTD DESIGN 3D PAPER STICKERS</td>\n",
              "      <td>12540</td>\n",
              "      <td>2011-11-25 15:57:00</td>\n",
              "      <td>0.00</td>\n",
              "      <td>13256.0</td>\n",
              "      <td>United Kingdom</td>\n",
              "      <td>0.00</td>\n",
              "    </tr>\n",
              "    <tr>\n",
              "      <th>421632</th>\n",
              "      <td>573008</td>\n",
              "      <td>84077</td>\n",
              "      <td>2011</td>\n",
              "      <td>10</td>\n",
              "      <td>4</td>\n",
              "      <td>12</td>\n",
              "      <td>201110</td>\n",
              "      <td>WORLD WAR 2 GLIDERS ASSTD DESIGNS</td>\n",
              "      <td>4800</td>\n",
              "      <td>2011-10-27 12:26:00</td>\n",
              "      <td>0.21</td>\n",
              "      <td>12901.0</td>\n",
              "      <td>United Kingdom</td>\n",
              "      <td>1008.00</td>\n",
              "    </tr>\n",
              "    <tr>\n",
              "      <th>206121</th>\n",
              "      <td>554868</td>\n",
              "      <td>22197</td>\n",
              "      <td>2011</td>\n",
              "      <td>5</td>\n",
              "      <td>5</td>\n",
              "      <td>10</td>\n",
              "      <td>201105</td>\n",
              "      <td>SMALL POPCORN HOLDER</td>\n",
              "      <td>4300</td>\n",
              "      <td>2011-05-27 10:52:00</td>\n",
              "      <td>0.72</td>\n",
              "      <td>13135.0</td>\n",
              "      <td>United Kingdom</td>\n",
              "      <td>3096.00</td>\n",
              "    </tr>\n",
              "    <tr>\n",
              "      <th>97432</th>\n",
              "      <td>544612</td>\n",
              "      <td>22053</td>\n",
              "      <td>2011</td>\n",
              "      <td>2</td>\n",
              "      <td>2</td>\n",
              "      <td>10</td>\n",
              "      <td>201102</td>\n",
              "      <td>EMPIRE DESIGN ROSETTE</td>\n",
              "      <td>3906</td>\n",
              "      <td>2011-02-22 10:43:00</td>\n",
              "      <td>0.82</td>\n",
              "      <td>18087.0</td>\n",
              "      <td>United Kingdom</td>\n",
              "      <td>3202.92</td>\n",
              "    </tr>\n",
              "    <tr>\n",
              "      <th>270885</th>\n",
              "      <td>560599</td>\n",
              "      <td>18007</td>\n",
              "      <td>2011</td>\n",
              "      <td>7</td>\n",
              "      <td>2</td>\n",
              "      <td>17</td>\n",
              "      <td>201107</td>\n",
              "      <td>ESSENTIAL BALM 3.5g TIN IN ENVELOPE</td>\n",
              "      <td>3186</td>\n",
              "      <td>2011-07-19 17:04:00</td>\n",
              "      <td>0.06</td>\n",
              "      <td>14609.0</td>\n",
              "      <td>United Kingdom</td>\n",
              "      <td>191.16</td>\n",
              "    </tr>\n",
              "    <tr>\n",
              "      <th>52711</th>\n",
              "      <td>540815</td>\n",
              "      <td>21108</td>\n",
              "      <td>2011</td>\n",
              "      <td>1</td>\n",
              "      <td>2</td>\n",
              "      <td>12</td>\n",
              "      <td>201101</td>\n",
              "      <td>FAIRY CAKE FLANNEL ASSORTED COLOUR</td>\n",
              "      <td>3114</td>\n",
              "      <td>2011-01-11 12:55:00</td>\n",
              "      <td>2.10</td>\n",
              "      <td>15749.0</td>\n",
              "      <td>United Kingdom</td>\n",
              "      <td>6539.40</td>\n",
              "    </tr>\n",
              "    <tr>\n",
              "      <th>160546</th>\n",
              "      <td>550461</td>\n",
              "      <td>21108</td>\n",
              "      <td>2011</td>\n",
              "      <td>4</td>\n",
              "      <td>1</td>\n",
              "      <td>13</td>\n",
              "      <td>201104</td>\n",
              "      <td>FAIRY CAKE FLANNEL ASSORTED COLOUR</td>\n",
              "      <td>3114</td>\n",
              "      <td>2011-04-18 13:20:00</td>\n",
              "      <td>2.10</td>\n",
              "      <td>15749.0</td>\n",
              "      <td>United Kingdom</td>\n",
              "      <td>6539.40</td>\n",
              "    </tr>\n",
              "    <tr>\n",
              "      <th>433788</th>\n",
              "      <td>573995</td>\n",
              "      <td>16014</td>\n",
              "      <td>2011</td>\n",
              "      <td>11</td>\n",
              "      <td>3</td>\n",
              "      <td>11</td>\n",
              "      <td>201111</td>\n",
              "      <td>SMALL CHINESE STYLE SCISSOR</td>\n",
              "      <td>3000</td>\n",
              "      <td>2011-11-02 11:24:00</td>\n",
              "      <td>0.32</td>\n",
              "      <td>16308.0</td>\n",
              "      <td>United Kingdom</td>\n",
              "      <td>960.00</td>\n",
              "    </tr>\n",
              "  </tbody>\n",
              "</table>\n",
              "</div>"
            ],
            "text/plain": [
              "       InvoiceNo StockCode  Year  ...  CustomerID         Country  MoneySpent\n",
              "540421    581483     23843  2011  ...     16446.0  United Kingdom   168469.60\n",
              "61619     541431     23166  2011  ...     12346.0  United Kingdom    77183.60\n",
              "502122    578841     84826  2011  ...     13256.0  United Kingdom        0.00\n",
              "421632    573008     84077  2011  ...     12901.0  United Kingdom     1008.00\n",
              "206121    554868     22197  2011  ...     13135.0  United Kingdom     3096.00\n",
              "97432     544612     22053  2011  ...     18087.0  United Kingdom     3202.92\n",
              "270885    560599     18007  2011  ...     14609.0  United Kingdom      191.16\n",
              "52711     540815     21108  2011  ...     15749.0  United Kingdom     6539.40\n",
              "160546    550461     21108  2011  ...     15749.0  United Kingdom     6539.40\n",
              "433788    573995     16014  2011  ...     16308.0  United Kingdom      960.00\n",
              "\n",
              "[10 rows x 14 columns]"
            ]
          },
          "metadata": {
            "tags": []
          },
          "execution_count": 353
        }
      ]
    },
    {
      "cell_type": "markdown",
      "metadata": {
        "id": "ggak_TMtLh5o",
        "colab_type": "text"
      },
      "source": [
        ""
      ]
    },
    {
      "cell_type": "markdown",
      "metadata": {
        "id": "-dEBLw1uPm1-",
        "colab_type": "text"
      },
      "source": [
        "**Create a histogram with the 10 countries that have the most 'Quantity' ordered except UK**"
      ]
    },
    {
      "cell_type": "code",
      "metadata": {
        "id": "_N-UF331Pm1-",
        "colab_type": "code",
        "colab": {
          "base_uri": "https://localhost:8080/",
          "height": 510
        },
        "outputId": "49079f4d-fe97-4916-fcd7-ca5ef62cd0e7"
      },
      "source": [
        "# Your code here\n",
        "group_country_amount_spent = sales_nonull.groupby('Country')['Quantity'].sum().sort_values().tail(10)\n",
        "del group_country_amount_spent['United Kingdom']\n",
        "\n",
        "# plot number of unique customers in each country (without UK)\n",
        "plt.subplots(figsize=(15,8))\n",
        "group_country_amount_spent.plot('barh', fontsize=15)\n",
        "plt.xlabel('Quantity', fontsize=15)\n",
        "plt.ylabel('Country', fontsize=15)\n",
        "plt.show()\n",
        "\n",
        "# What can you tell about this?"
      ],
      "execution_count": 356,
      "outputs": [
        {
          "output_type": "display_data",
          "data": {
            "image/png": "[encoded data removed]",
            "text/plain": [
              "<Figure size 1080x576 with 1 Axes>"
            ]
          },
          "metadata": {
            "tags": []
          }
        }
      ]
    },
    {
      "cell_type": "markdown",
      "metadata": {
        "id": "MoBgPjDiwhdV",
        "colab_type": "text"
      },
      "source": [
        "### You are awesome!!"
      ]
    }
  ]
}